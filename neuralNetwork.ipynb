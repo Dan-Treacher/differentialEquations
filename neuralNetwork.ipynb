{
 "cells": [
  {
   "cell_type": "code",
   "execution_count": 1,
   "metadata": {},
   "outputs": [],
   "source": [
    "# Import required libraries\n",
    "\n",
    "import autograd.numpy as np\n",
    "from autograd import grad, elementwise_grad\n",
    "import autograd.numpy.random as npr\n",
    "import matplotlib.pyplot as plt\n",
    "plt.rcParams['font.size'] = 15"
   ]
  },
  {
   "cell_type": "markdown",
   "metadata": {},
   "source": [
    "Define ODE as:\n",
    "\n",
    "$\\dfrac{du}{dt}=\\mathrm{sin}(40\\,t\\,u)$ s.t. $u(0)=u_0=1$.  **(1)**\n",
    "\n",
    "That means a trial solution could be\n",
    "\n",
    "$u_t(t,P)=h_1(t)+h_2(t, N(t,P))$  **(2)** with $N(x,P)$ as the network of weights/biases $P$. We know $u(0)=u_0$, so we can write the trial solution as:\n",
    "\n",
    "$u_t(t,P)=u_0+tN(t,P)$  **(3)** which ensured that when $t=0$, $u_t(0)=u_0 + 0$ as desired.\n",
    "\n",
    "Network cost function will be squared residuals $c(x,P)=\\left[u_t'(t,P)-\\mathrm{sin}(40\\,t\\,u_t(x,P))\\right]^2$  **(4)** with associated minimisation problem $\\mathrm{min}_P\\:\\left[c(x,P)\\right]$"
   ]
  },
  {
   "cell_type": "markdown",
   "metadata": {},
   "source": [
    "Common to use some form of automatic differentiation to process the backpropagation steps of network training. Popular library autograd has been superseded by 'jax'. Can't install jax on windows at the moment though, so stick with autograd."
   ]
  },
  {
   "cell_type": "code",
   "execution_count": 2,
   "metadata": {},
   "outputs": [],
   "source": [
    "# Equation (3)\n",
    "def trialSolution(t, P, u0=1):\n",
    "    return u0 + t*neural_network(P, t)\n",
    "\n",
    "# RHS of equation (1)\n",
    "def du(t, trialSolution):\n",
    "    return np.sin(40 * t * trialSolution)\n",
    "\n",
    "# Activation function for the network\n",
    "def sigmoid(z):\n",
    "    return 1 / (1 + np.exp(-z))\n",
    "\n",
    "# Gradient of the activation function\n",
    "def sigmoid_grad(z):\n",
    "    return sigmoid(z) * (1 - sigmoid(z))"
   ]
  },
  {
   "cell_type": "code",
   "execution_count": 3,
   "metadata": {},
   "outputs": [],
   "source": [
    "# Assuming one input, hidden, and output layer\n",
    "def neural_network(params, t):\n",
    "\n",
    "    # Find the weights (including and biases) for the hidden and output layer.\n",
    "    # Assume that params is a list of parameters for each layer.\n",
    "    # The biases are the first element for each array in params,\n",
    "    # and the weights are the remaning elements in each array in params.\n",
    "\n",
    "    w_hidden_1 = params[0]\n",
    "    w_hidden_2 = params[1]\n",
    "    w_output = params[2]\n",
    "\n",
    "    #t = np.asarray(t)\n",
    "    # Assumes input x being an one-dimensional array\n",
    "    num_values = np.size(t)\n",
    "    t = t.reshape(-1, num_values)\n",
    "    \n",
    "    # Assume that the input layer does nothing to the input t\n",
    "    t_input = t\n",
    "\n",
    "    ## Hidden layer 1:\n",
    "\n",
    "    # Add a row of ones to include bias\n",
    "    t_input = np.concatenate((np.ones((1, num_values)), t_input), axis = 0)\n",
    "\n",
    "    z_hidden_1 = np.matmul(w_hidden_1, t_input)\n",
    "    t_hidden_1 = sigmoid(z_hidden_1)\n",
    "\n",
    "    ## Hidden layer 2:\n",
    "\n",
    "    # Add a row of ones to include bias\n",
    "    t_input_1 = np.concatenate((np.ones((1, num_values)), t_hidden_1 ), axis = 0)\n",
    "\n",
    "    z_hidden_2 = np.matmul(w_hidden_2, t_input_1)\n",
    "    t_hidden_2 = sigmoid(z_hidden_2)\n",
    "    \n",
    "    ## Output layer:\n",
    "\n",
    "    # Include bias:\n",
<<<<<<< HEAD
    "    t_hidden_2 = np.concatenate((np.ones((1,num_values)), t_hidden_2 ), axis = 0)\n",
=======
    "    t_hidden = np.concatenate((np.ones((1,num_values)), t_hidden), axis = 0)\n",
>>>>>>> master
    "\n",
    "    z_output = np.matmul(w_output, t_hidden_2)\n",
    "    t_output = z_output\n",
    "\n",
    "    return t_output"
   ]
  },
  {
   "cell_type": "code",
   "execution_count": 4,
   "metadata": {},
   "outputs": [],
   "source": [
    "# Cost function\n",
    "def cost_function(P, t):\n",
    "\n",
    "    # Evaluate the trial function with the current parameters P\n",
    "    u_t = trialSolution(t, P)\n",
    "\n",
    "    # Find the derivative w.r.t t of the neural network\n",
    "    d_net_out = elementwise_grad(neural_network, 1)(P, t)\n",
    "\n",
    "    # Find the derivative w.r.t t of the trial function\n",
    "    d_g_t = elementwise_grad(trialSolution, 0)(t, P)\n",
    "    \n",
    "    # Error terms\n",
    "    err_sqr = (d_g_t - du(t, u_t))**2\n",
    "    cost_sum = np.sum(err_sqr)\n",
    "\n",
    "    return cost_sum / np.size(err_sqr)"
   ]
  },
  {
   "cell_type": "code",
   "execution_count": 5,
   "metadata": {},
   "outputs": [],
   "source": [
    "# Solve the exponential decay ODE using neural network with one input, hidden, and output layer\n",
    "def solve_ode_neural_network(t, num_neurons_hidden, num_iter, lmb):\n",
    "    ## Set up initial weights and biases\n",
    "\n",
    "    # For the 1st hidden layer\n",
    "    # Size is destination dimension x origin dimension + 1\n",
    "    p0 = npr.randn(num_neurons_hidden, 2)  # This is num_... x 2 because you're going into a num_... dimensional hidden layer from a 1 dimensional input node\n",
    "\n",
    "    # For the 2st hidden layer\n",
    "    p1 = npr.randn(num_neurons_hidden, num_neurons_hidden + 1)  # +1 since bias is included\n",
    "    \n",
    "    # For the output layer\n",
    "    p2 = npr.randn(1, num_neurons_hidden + 1)  # +1 since bias is included\n",
    "\n",
    "    P = [p0, p1, p2]\n",
    "\n",
    "    print('Initial cost: %g'%cost_function(P, t))\n",
    "\n",
    "    ## Start finding the optimal weights using gradient descent\n",
    "\n",
    "    # Find the Python function that represents the gradient of the cost function\n",
    "    # w.r.t the 0-th input argument -- that is the weights and biases in the hidden and output layer\n",
    "    cost_function_grad = grad(cost_function, 0)  # arg1 is the actual function defined above.\n",
    "\n",
    "    # Let the update be done num_iter times\n",
    "    for i in range(num_iter):\n",
    "        # Evaluate the gradient at the current weights and biases in P.\n",
    "        # The cost_grad consist now of two arrays;\n",
    "        # one for the gradient w.r.t P_hidden and\n",
    "        # one for the gradient w.r.t P_output\n",
    "        cost_grad =  cost_function_grad(P, t)\n",
    "\n",
    "        P[0] = P[0] - lmb * cost_grad[0]\n",
    "        P[1] = P[1] - lmb * cost_grad[1]\n",
    "        P[2] = P[2] - lmb * cost_grad[2]\n",
    "        \n",
    "    print('Final cost: %g'%cost_function(P, t))\n",
    "\n",
    "    return P"
   ]
  },
  {
   "cell_type": "code",
   "execution_count": 6,
   "metadata": {},
   "outputs": [],
   "source": [
    "# Define constants\n",
    "\n",
    "num_hidden_neurons = 15\n",
    "num_iter = 20000\n",
    "t = np.linspace(0, 1, 100) # Grid limits\n",
    "lamda = 0.001 # Gradient descent learning rate"
   ]
  },
  {
   "cell_type": "code",
   "execution_count": 7,
   "metadata": {},
   "outputs": [
    {
     "name": "stdout",
     "output_type": "stream",
     "text": [
<<<<<<< HEAD
      "Initial cost: 33.5727\n",
      "Final cost: 1.28283\n"
=======
      "Initial cost: 1.14913\n",
      "Final cost: 0.508994\n"
>>>>>>> master
     ]
    }
   ],
   "source": [
    "# Do the network training and find the best parameters\n",
    "\n",
    "P = solve_ode_neural_network(t, num_hidden_neurons, num_iter, lamda)  # x is a vector here\n",
    "\n",
    "# Print the deviation from the trial solution and true solution\n",
    "result = trialSolution(t, P)"
   ]
  },
  {
   "cell_type": "code",
   "execution_count": 8,
   "metadata": {},
   "outputs": [
    {
     "data": {
<<<<<<< HEAD
      "image/png": "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\n",
=======
      "image/png": "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\n",
>>>>>>> master
      "text/plain": [
       "<Figure size 360x288 with 1 Axes>"
      ]
     },
     "metadata": {
      "needs_background": "light"
     },
     "output_type": "display_data"
    }
   ],
   "source": [
    "fig, ax = plt.subplots(figsize=(5,4))\n",
    "ax.plot(t, result.T, linewidth=3, label='Neural network result')\n",
    "plt.legend()\n",
    "plt.show()"
   ]
  }
 ],
 "metadata": {
  "kernelspec": {
   "display_name": "Python 3",
   "language": "python",
   "name": "python3"
  },
  "language_info": {
   "codemirror_mode": {
    "name": "ipython",
    "version": 3
   },
   "file_extension": ".py",
   "mimetype": "text/x-python",
   "name": "python",
   "nbconvert_exporter": "python",
   "pygments_lexer": "ipython3",
   "version": "3.7.3"
  }
 },
 "nbformat": 4,
 "nbformat_minor": 4
}
