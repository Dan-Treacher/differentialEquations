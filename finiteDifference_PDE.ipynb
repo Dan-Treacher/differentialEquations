{
 "cells": [
  {
   "cell_type": "code",
   "execution_count": 2,
   "metadata": {},
   "outputs": [],
   "source": [
    "import numpy as np\n",
    "from scipy.sparse import diags\n",
    "from scipy.stats import norm\n",
    "from IPython import display\n",
    "import matplotlib.pyplot as plt\n",
    "plt.rcParams['font.size'] = 15"
   ]
  },
  {
   "cell_type": "markdown",
   "metadata": {},
   "source": [
    "Define ODE as heat equation:\n",
    "\n",
    "$u_t = u_{x,x}$\n",
    "\n",
    "on a grid of $N$ spatial points with boundary conditions of $u(0,t)=u(N,t)=0$.\n",
    "\n",
    "Define finite difference stencil with space discretised as $\\left[j, j+1, ... \\right]$ and time discretised as $\\left[n, n+1, ... \\right]$:\n",
    "\n",
    "$\\dfrac{v_j^{n+1}-v_j^n}{k}=\\dfrac{v_{j+1}^n-2v_{j}^n+v_{j-1}^n}{h^2}$\n",
    "\n",
    "The spatial grid spacing is $h$ and the temporal grid spacing is $k$\n",
    "\n",
    "Stencil can be recast as a matrix multiplication involving a tridiagonal matrix with $a$ on the leading diagonal and $b$ on both the adjacent diagonals"
   ]
  },
  {
   "cell_type": "code",
   "execution_count": 3,
   "metadata": {},
   "outputs": [],
   "source": [
    "# Define constants\n",
    "\n",
    "N = 30  # Number of space steps in the grid\n",
    "T = 100  # Number of steps in time to take\n",
    "x = np.linspace(-3, 3, N)  # Spatial axis\n",
    "v = norm.pdf(x)  # Define vector describing the initial state at time n = 0\n",
    "h = 1/40  # Step size in space\n",
    "k = 0.5*h**2  # Time step\n",
    "\n",
    "a = 1 - 2*k/h**2  # Leading diagonal\n",
    "b = k/h**2  # Super/Sub diagonal\n",
    "\n",
    "# Stencil matrix\n",
    "diagonals = [[a]*N, [b]*(N-1), [b]*(N-1)]\n",
    "A = diags(diagonals, [0, -1, 1]).toarray()"
   ]
  },
  {
   "cell_type": "code",
   "execution_count": 4,
   "metadata": {},
   "outputs": [
    {
     "data": {
      "image/png": "[encoded data removed]",
      "text/plain": [
       "<Figure size 432x288 with 1 Axes>"
      ]
     },
     "metadata": {
      "needs_background": "light"
     },
     "output_type": "display_data"
    }
   ],
   "source": [
    "# Loop and plot the newly calculated state at each time increment\n",
    "\n",
    "# Reinitialise the first state\n",
    "v = norm.pdf(np.linspace(-3, 3, N))\n",
    "ymax = np.max(v)\n",
    "\n",
    "for time in range(T):\n",
    "    v = np.matmul(A, v)\n",
    "\n",
    "    plt.plot(x, v)\n",
    "    plt.axis([x[0], x[-1], 0, 1.1*ymax])\n",
    "    display.clear_output(wait=True)\n",
    "    #display.display(plt.gcf())\n",
    "    plt.pause(0.01)"
   ]
  }
 ],
 "metadata": {
  "kernelspec": {
   "display_name": "Python 3",
   "language": "python",
   "name": "python3"
  },
  "language_info": {
   "codemirror_mode": {
    "name": "ipython",
    "version": 3
   },
   "file_extension": ".py",
   "mimetype": "text/x-python",
   "name": "python",
   "nbconvert_exporter": "python",
   "pygments_lexer": "ipython3",
   "version": "3.7.3"
  }
 },
 "nbformat": 4,
 "nbformat_minor": 4
}
