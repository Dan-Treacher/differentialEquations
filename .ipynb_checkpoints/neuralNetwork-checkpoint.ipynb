{
 "cells": [
  {
   "cell_type": "code",
   "execution_count": 8,
   "metadata": {},
   "outputs": [],
   "source": [
    "# Import required libraries\n",
    "\n",
    "import autograd.numpy as np\n",
    "from autograd import grad # Used to automate calculation of the gradients of solution with respect to the current weights\n",
    "import autograd.numpy.random as npr\n",
    "import matplotlib.pyplot as plt\n",
    "plt.rcParams['font.size'] = 15"
   ]
  },
  {
   "cell_type": "markdown",
   "metadata": {},
   "source": [
    "Define ODE as:\n",
    "\n",
    "$\\dfrac{du}{dt}=\\mathrm{sin}(40\\,t\\,u)$\n",
    "\n",
    "with initial condition of:\n",
    "\n",
    "$u(0)=1$"
   ]
  },
  {
   "cell_type": "markdown",
   "metadata": {},
   "source": [
    "Common to use some form of automatic differentiation to process the backpropagation steps of network training. Popular library autograd has been superseded by 'jax'. Can't install jax on windows at the moment though, so stick with autograd."
   ]
  },
  {
   "cell_type": "code",
   "execution_count": 24,
   "metadata": {},
   "outputs": [],
   "source": [
    "def sigmoid(z): # Activation function\n",
    "    return 1 / (1 + np.exp(-z))\n",
    "\n",
    "def sigmoid_grad(z): # Gradient of the activation function\n",
    "    return sigmoid(z) * (1 - sigmoid(z))\n",
    "\n",
    "def neural_network(W, x): # This is a feedforward step\n",
    "    a1 = sigmoid(np.dot(x, W[0]))\n",
    "    return np.dot(a1, W[1])\n",
    "\n",
    "def d_neural_network_dx(W, x, k=1):\n",
    "    return np.dot(np.dot(W[1].T, (W[0].T)**k), sigmoid_grad(x))\n",
    "\n",
    "def f(x, y):\n",
    "    return - np.sin(40*x*y) # right hand side of analytic equation\n",
    "\n",
    "def loss_function(W, x):\n",
    "    loss_sum = 0\n",
    "    for xi in x:\n",
    "        net_out = neural_network(W, xi)[0][0]\n",
    "        y_t = 1 + xi*net_out\n",
    "        d_net_out = d_neural_network_dx(W, xi)[0][0] # Derivative\n",
    "        d_y_t = net_out + xi*d_net_out\n",
    "        func = f(xi, y_t)\n",
    "        err_squ = (d_y_t - func)**2\n",
    "        \n",
    "        loss_sum += err_squ\n",
    "    return loss_sum"
   ]
  },
  {
   "cell_type": "code",
   "execution_count": 25,
   "metadata": {},
   "outputs": [],
   "source": [
    "N = 31\n",
    "nx = 10\n",
    "dx = 1. / nx\n",
    "\n",
    "x_space = np.linspace(0, 1, nx) # Grid limits\n"
   ]
  },
  {
   "cell_type": "code",
   "execution_count": 26,
   "metadata": {},
   "outputs": [],
   "source": [
    "W = [npr.randn(1,10), npr.randn(10,1)] # Randomly initialise the weights - this is where it's decided that there'll be 10 hidden nodes?\n",
    "lamda = 0.001 # Gradient descent learning rate\n",
    "\n",
    "for i in range(1000): # This is just gradient descent using the automated gradient calculator from autograd\n",
    "    loss_grad = grad(loss_function)(W, x_space)\n",
    "    \n",
    "    W[0] = W[0] - lamda*loss_grad[0]\n",
    "    W[1] = W[1] - lamda*loss_grad[1]"
   ]
  },
  {
   "cell_type": "code",
   "execution_count": 27,
   "metadata": {},
   "outputs": [
    {
     "data": {
      "image/png": "[encoded data removed]",
      "text/plain": [
       "<Figure size 360x288 with 1 Axes>"
      ]
     },
     "metadata": {
      "needs_background": "light"
     },
     "output_type": "display_data"
    }
   ],
   "source": [
    "result = [1 + xi * neural_network(W, xi)[0][0] for xi in x_space]\n",
    "\n",
    "fig, ax = plt.subplots(figsize=(5,4))\n",
    "ax.plot(x_space, result, linewidth=3, label='Neural network result')\n",
    "plt.legend()\n",
    "plt.show()"
   ]
  },
  {
   "cell_type": "code",
   "execution_count": 20,
   "metadata": {},
   "outputs": [
    {
     "data": {
      "text/plain": [
       "10"
      ]
     },
     "execution_count": 20,
     "metadata": {},
     "output_type": "execute_result"
    }
   ],
   "source": [
    "len(result)"
   ]
  }
 ],
 "metadata": {
  "kernelspec": {
   "display_name": "Python 3",
   "language": "python",
   "name": "python3"
  },
  "language_info": {
   "codemirror_mode": {
    "name": "ipython",
    "version": 3
   },
   "file_extension": ".py",
   "mimetype": "text/x-python",
   "name": "python",
   "nbconvert_exporter": "python",
   "pygments_lexer": "ipython3",
   "version": "3.7.3"
  }
 },
 "nbformat": 4,
 "nbformat_minor": 4
}
